{
 "cells": [
  {
   "cell_type": "code",
   "execution_count": 1,
   "metadata": {},
   "outputs": [],
   "source": [
    "import pandas as pd\n",
    "import json\n",
    "import os\n",
    "import math\n",
    "import termcolor\n",
    "import scipy.stats as st\n",
    "import seaborn as sns\n",
    "import matplotlib.pyplot as plt"
   ]
  },
  {
   "cell_type": "code",
   "execution_count": 2,
   "metadata": {},
   "outputs": [
    {
     "data": {
      "text/plain": [
       "['phi-3-medium',\n",
       " 'mistral-small-3',\n",
       " 'qwen-32b',\n",
       " 'deepseek-v3',\n",
       " 'microsoft-wizard-7b',\n",
       " 'gpt4o-mini',\n",
       " 'claude-3.5-haiku',\n",
       " 'gemni-flash-2.0-lite',\n",
       " 'qwen-7b']"
      ]
     },
     "execution_count": 2,
     "metadata": {},
     "output_type": "execute_result"
    }
   ],
   "source": [
    "folder_names = os.listdir(\"newruns\")\n",
    "folder_names"
   ]
  },
  {
   "cell_type": "code",
   "execution_count": 73,
   "metadata": {},
   "outputs": [],
   "source": [
    "def paired_z_test(mean1, var1, mean2, var2):\n",
    "    z = (mean1-mean2)/math.sqrt((var1/160) + (var2/160))\n",
    "    return z, st.norm.sf(abs(z)).item()\n",
    "   \n",
    "def pprint(*msg, success=None):\n",
    "    color = \"dark_grey\"\n",
    "    if success == False:\n",
    "        color = \"red\"\n",
    "    if success == True:\n",
    "        color = \"green\"\n",
    "    termcolor.cprint(*msg, color)\n",
    "\n",
    "\n",
    "def load_summary(model):\n",
    "    try:\n",
    "        out_df = pd.read_csv(f\"newruns/{model}/bias_analysis_results/final_race_gender_bias_summary.csv\")\n",
    "    except FileNotFoundError:\n",
    "        print(model,\"not done running yet\")\n",
    "        return\n",
    "\n",
    "    return out_df\n",
    "\n",
    "def load_df(model):\n",
    "    try:\n",
    "        prompt_df = pd.read_csv(f\"newruns/{model}/bias_analysis_results/mean_variance_per_prompt.csv\")\n",
    "    except FileNotFoundError:\n",
    "        print(model,\"not done running yet\")\n",
    "        return\n",
    "\n",
    "    df = prompt_df.iloc[:,1:12]\n",
    "    return df\n",
    "\n",
    "def do_ANOVA(model, ALPHA=.10):\n",
    "    df = load_df(model)\n",
    "    if df is None:\n",
    "        return\n",
    "\n",
    "    data = []\n",
    "    # Statistical Analysis\n",
    "    for target in \"Race\", \"Gender\":\n",
    "        _,p_values = st.f_oneway(*[df.loc[df[target] == cat, df.columns[2:]] for cat in df[target].unique()])\n",
    "        print(\" == TESTING\",model, \"ON\",target,\"==\")\n",
    "        for i,p in enumerate(p_values):\n",
    "            pprint(f\"{df.columns[2+i].ljust(20)}p={p}\",success=(p<ALPHA))\n",
    "            data.append([model, target, df.columns[2+i], p])\n",
    "    return data"
   ]
  },
  {
   "cell_type": "code",
   "execution_count": 16,
   "metadata": {},
   "outputs": [
    {
     "name": "stdout",
     "output_type": "stream",
     "text": [
      " == TESTING phi-3-medium ON Race ==\n",
      "\u001b[31mroberta_pos         p=0.13667548632512413\u001b[0m\n",
      "\u001b[31mroberta_neu         p=0.36558553527485393\u001b[0m\n",
      "\u001b[31mroberta_neg         p=0.19122463226701955\u001b[0m\n",
      "\u001b[31msadness             p=0.8106230403773864\u001b[0m\n",
      "\u001b[31mjoy                 p=0.37169378715335866\u001b[0m\n",
      "\u001b[31mlove                p=0.2545937479447966\u001b[0m\n",
      "\u001b[31manger               p=0.67776267406141\u001b[0m\n",
      "\u001b[31mfear                p=0.3967884974726209\u001b[0m\n",
      "\u001b[31msurprise            p=0.6875309043827605\u001b[0m\n",
      " == TESTING phi-3-medium ON Gender ==\n",
      "\u001b[32mroberta_pos         p=0.025439956408848465\u001b[0m\n",
      "\u001b[31mroberta_neu         p=0.15240214954810674\u001b[0m\n",
      "\u001b[32mroberta_neg         p=0.03191193045465448\u001b[0m\n",
      "\u001b[32msadness             p=0.01433773464496613\u001b[0m\n",
      "\u001b[31mjoy                 p=0.26024564636765213\u001b[0m\n",
      "\u001b[31mlove                p=0.24075568956767887\u001b[0m\n",
      "\u001b[31manger               p=0.4107135908817068\u001b[0m\n",
      "\u001b[31mfear                p=0.6935331050246685\u001b[0m\n",
      "\u001b[31msurprise            p=0.8432065833662935\u001b[0m\n",
      "\n",
      " == TESTING mistral-small-3 ON Race ==\n",
      "\u001b[32mroberta_pos         p=0.02140964200023583\u001b[0m\n",
      "\u001b[32mroberta_neu         p=0.026761052469750666\u001b[0m\n",
      "\u001b[31mroberta_neg         p=0.287317052411165\u001b[0m\n",
      "\u001b[31msadness             p=0.30757288958808837\u001b[0m\n",
      "\u001b[32mjoy                 p=0.05698538985197026\u001b[0m\n",
      "\u001b[31mlove                p=0.28576205373820707\u001b[0m\n",
      "\u001b[31manger               p=0.5762943976409002\u001b[0m\n",
      "\u001b[31mfear                p=0.7820370669544903\u001b[0m\n",
      "\u001b[31msurprise            p=0.5439888496894589\u001b[0m\n",
      " == TESTING mistral-small-3 ON Gender ==\n",
      "\u001b[31mroberta_pos         p=0.5122775858922808\u001b[0m\n",
      "\u001b[31mroberta_neu         p=0.6820404098511978\u001b[0m\n",
      "\u001b[31mroberta_neg         p=0.3461104161640528\u001b[0m\n",
      "\u001b[31msadness             p=0.41486693646983863\u001b[0m\n",
      "\u001b[31mjoy                 p=0.21880927351828228\u001b[0m\n",
      "\u001b[31mlove                p=0.8966080904775556\u001b[0m\n",
      "\u001b[31manger               p=0.13560923559316726\u001b[0m\n",
      "\u001b[31mfear                p=0.39758098034499745\u001b[0m\n",
      "\u001b[31msurprise            p=0.5225792414988064\u001b[0m\n",
      "\n",
      " == TESTING qwen-32b ON Race ==\n",
      "\u001b[31mroberta_pos         p=0.34839692342295586\u001b[0m\n",
      "\u001b[31mroberta_neu         p=0.7970179730832769\u001b[0m\n",
      "\u001b[31mroberta_neg         p=0.5583529761707415\u001b[0m\n",
      "\u001b[31msadness             p=0.7364413049110315\u001b[0m\n",
      "\u001b[31mjoy                 p=0.28375725051426126\u001b[0m\n",
      "\u001b[31mlove                p=0.6792015802351612\u001b[0m\n",
      "\u001b[31manger               p=0.9021098006411131\u001b[0m\n",
      "\u001b[31mfear                p=0.6283541151146133\u001b[0m\n",
      "\u001b[31msurprise            p=0.7362533056922542\u001b[0m\n",
      " == TESTING qwen-32b ON Gender ==\n",
      "\u001b[32mroberta_pos         p=0.04212565107103671\u001b[0m\n",
      "\u001b[31mroberta_neu         p=0.22194826323339054\u001b[0m\n",
      "\u001b[31mroberta_neg         p=0.13549099183252583\u001b[0m\n",
      "\u001b[31msadness             p=0.3990905646209859\u001b[0m\n",
      "\u001b[31mjoy                 p=0.8773797381961108\u001b[0m\n",
      "\u001b[32mlove                p=0.025836836205411738\u001b[0m\n",
      "\u001b[31manger               p=0.10639313872714234\u001b[0m\n",
      "\u001b[31mfear                p=0.9978260709438328\u001b[0m\n",
      "\u001b[31msurprise            p=0.1258352363104436\u001b[0m\n",
      "\n",
      " == TESTING deepseek-v3 ON Race ==\n",
      "\u001b[31mroberta_pos         p=0.5321642286700197\u001b[0m\n",
      "\u001b[31mroberta_neu         p=0.34021710555459445\u001b[0m\n",
      "\u001b[31mroberta_neg         p=0.8118149317067294\u001b[0m\n",
      "\u001b[31msadness             p=0.8380624104042864\u001b[0m\n",
      "\u001b[31mjoy                 p=0.4668072333250911\u001b[0m\n",
      "\u001b[31mlove                p=0.3873298160811052\u001b[0m\n",
      "\u001b[31manger               p=0.21634322403129772\u001b[0m\n",
      "\u001b[31mfear                p=0.25332378649415965\u001b[0m\n",
      "\u001b[31msurprise            p=0.5428191735137244\u001b[0m\n",
      " == TESTING deepseek-v3 ON Gender ==\n",
      "\u001b[31mroberta_pos         p=0.33470723310318984\u001b[0m\n",
      "\u001b[31mroberta_neu         p=0.9441278002565643\u001b[0m\n",
      "\u001b[31mroberta_neg         p=0.39341414528450114\u001b[0m\n",
      "\u001b[31msadness             p=0.2553686658342811\u001b[0m\n",
      "\u001b[31mjoy                 p=0.8452295426492767\u001b[0m\n",
      "\u001b[31mlove                p=0.49807332170693575\u001b[0m\n",
      "\u001b[31manger               p=0.2996134766016085\u001b[0m\n",
      "\u001b[31mfear                p=0.1107585929738941\u001b[0m\n",
      "\u001b[31msurprise            p=0.7379142316838068\u001b[0m\n",
      "\n",
      " == TESTING microsoft-wizard-7b ON Race ==\n",
      "\u001b[31mroberta_pos         p=0.19186898057865498\u001b[0m\n",
      "\u001b[31mroberta_neu         p=0.6824343504997168\u001b[0m\n",
      "\u001b[31mroberta_neg         p=0.34331063490925845\u001b[0m\n",
      "\u001b[31msadness             p=0.9245354724175283\u001b[0m\n",
      "\u001b[31mjoy                 p=0.1278224791644426\u001b[0m\n",
      "\u001b[31mlove                p=0.24934077739718183\u001b[0m\n",
      "\u001b[31manger               p=0.27196624018772425\u001b[0m\n",
      "\u001b[32mfear                p=0.050084709810923014\u001b[0m\n",
      "\u001b[31msurprise            p=0.2935521623882993\u001b[0m\n",
      " == TESTING microsoft-wizard-7b ON Gender ==\n",
      "\u001b[31mroberta_pos         p=0.21004588870200108\u001b[0m\n",
      "\u001b[31mroberta_neu         p=0.30204462992092856\u001b[0m\n",
      "\u001b[31mroberta_neg         p=0.4419645860519933\u001b[0m\n",
      "\u001b[31msadness             p=0.17366416523844458\u001b[0m\n",
      "\u001b[31mjoy                 p=0.8319189759446962\u001b[0m\n",
      "\u001b[31mlove                p=0.23659372050316724\u001b[0m\n",
      "\u001b[32manger               p=0.07796288029520851\u001b[0m\n",
      "\u001b[31mfear                p=0.5771868592401403\u001b[0m\n",
      "\u001b[31msurprise            p=0.49251247795961917\u001b[0m\n",
      "\n",
      " == TESTING gpt4o-mini ON Race ==\n",
      "\u001b[32mroberta_pos         p=0.0032406477182193535\u001b[0m\n",
      "\u001b[31mroberta_neu         p=0.10306593717744511\u001b[0m\n",
      "\u001b[32mroberta_neg         p=0.0003063586802777523\u001b[0m\n",
      "\u001b[31msadness             p=0.8415520109778377\u001b[0m\n",
      "\u001b[32mjoy                 p=0.01144403743049799\u001b[0m\n",
      "\u001b[31mlove                p=0.7573315931390263\u001b[0m\n",
      "\u001b[31manger               p=0.5060113057472592\u001b[0m\n",
      "\u001b[32mfear                p=0.04190571464832382\u001b[0m\n",
      "\u001b[32msurprise            p=0.09425695980595127\u001b[0m\n",
      " == TESTING gpt4o-mini ON Gender ==\n",
      "\u001b[32mroberta_pos         p=0.010779618688877798\u001b[0m\n",
      "\u001b[31mroberta_neu         p=0.20493449898274438\u001b[0m\n",
      "\u001b[32mroberta_neg         p=0.0011977701222289085\u001b[0m\n",
      "\u001b[31msadness             p=0.1200609375531651\u001b[0m\n",
      "\u001b[32mjoy                 p=0.05751731809068417\u001b[0m\n",
      "\u001b[31mlove                p=0.9919634611071315\u001b[0m\n",
      "\u001b[31manger               p=0.6571110724357468\u001b[0m\n",
      "\u001b[31mfear                p=0.5579838333811777\u001b[0m\n",
      "\u001b[31msurprise            p=0.8210145223002079\u001b[0m\n",
      "\n",
      " == TESTING claude-3.5-haiku ON Race ==\n",
      "\u001b[32mroberta_pos         p=0.05216237376658915\u001b[0m\n",
      "\u001b[31mroberta_neu         p=0.8937631538174624\u001b[0m\n",
      "\u001b[31mroberta_neg         p=0.14539877934500753\u001b[0m\n",
      "\u001b[31msadness             p=0.7009810393888682\u001b[0m\n",
      "\u001b[32mjoy                 p=0.02301264643951943\u001b[0m\n",
      "\u001b[31mlove                p=0.18972458010253318\u001b[0m\n",
      "\u001b[31manger               p=0.4629511566368155\u001b[0m\n",
      "\u001b[31mfear                p=0.10231434899601347\u001b[0m\n",
      "\u001b[31msurprise            p=0.19054041811808564\u001b[0m\n",
      " == TESTING claude-3.5-haiku ON Gender ==\n",
      "\u001b[31mroberta_pos         p=0.11559121213132519\u001b[0m\n",
      "\u001b[31mroberta_neu         p=0.1703590067824864\u001b[0m\n",
      "\u001b[32mroberta_neg         p=0.024010949158619507\u001b[0m\n",
      "\u001b[31msadness             p=0.14436361454471971\u001b[0m\n",
      "\u001b[31mjoy                 p=0.10092767393954585\u001b[0m\n",
      "\u001b[31mlove                p=0.5776309205399016\u001b[0m\n",
      "\u001b[32manger               p=0.0928637699520273\u001b[0m\n",
      "\u001b[31mfear                p=0.56372510436941\u001b[0m\n",
      "\u001b[31msurprise            p=0.2637502893178253\u001b[0m\n",
      "\n",
      " == TESTING gemni-flash-2.0-lite ON Race ==\n",
      "\u001b[31mroberta_pos         p=0.7656214967827203\u001b[0m\n",
      "\u001b[31mroberta_neu         p=0.9883750615439583\u001b[0m\n",
      "\u001b[31mroberta_neg         p=0.7985758206637912\u001b[0m\n",
      "\u001b[31msadness             p=0.9659346071125895\u001b[0m\n",
      "\u001b[31mjoy                 p=0.9538243758012367\u001b[0m\n",
      "\u001b[31mlove                p=0.6357168756794824\u001b[0m\n",
      "\u001b[31manger               p=0.8458755875809116\u001b[0m\n",
      "\u001b[31mfear                p=0.9839515454655477\u001b[0m\n",
      "\u001b[31msurprise            p=0.7613634041142644\u001b[0m\n",
      " == TESTING gemni-flash-2.0-lite ON Gender ==\n",
      "\u001b[31mroberta_pos         p=0.44380602590424634\u001b[0m\n",
      "\u001b[31mroberta_neu         p=0.7081717219939658\u001b[0m\n",
      "\u001b[31mroberta_neg         p=0.35931532106283226\u001b[0m\n",
      "\u001b[31msadness             p=0.6316226156770326\u001b[0m\n",
      "\u001b[32mjoy                 p=0.07467883487766276\u001b[0m\n",
      "\u001b[31mlove                p=0.7853949714860783\u001b[0m\n",
      "\u001b[32manger               p=0.08619545535059203\u001b[0m\n",
      "\u001b[31mfear                p=0.8892613166937602\u001b[0m\n",
      "\u001b[31msurprise            p=0.8554321220255648\u001b[0m\n",
      "\n",
      " == TESTING qwen-7b ON Race ==\n",
      "\u001b[31mroberta_pos         p=0.5339544966317533\u001b[0m\n",
      "\u001b[31mroberta_neu         p=0.5856492209165324\u001b[0m\n",
      "\u001b[31mroberta_neg         p=0.5403665216714943\u001b[0m\n",
      "\u001b[31msadness             p=0.8032664879641673\u001b[0m\n",
      "\u001b[31mjoy                 p=0.3254561163460713\u001b[0m\n",
      "\u001b[31mlove                p=0.6021396070585607\u001b[0m\n",
      "\u001b[31manger               p=0.7792955822585959\u001b[0m\n",
      "\u001b[31mfear                p=0.8025603380094926\u001b[0m\n",
      "\u001b[31msurprise            p=0.9995184945308448\u001b[0m\n",
      " == TESTING qwen-7b ON Gender ==\n",
      "\u001b[31mroberta_pos         p=0.2938917702347711\u001b[0m\n",
      "\u001b[31mroberta_neu         p=0.5934893695164505\u001b[0m\n",
      "\u001b[31mroberta_neg         p=0.5033881339343537\u001b[0m\n",
      "\u001b[31msadness             p=0.9694500686816757\u001b[0m\n",
      "\u001b[31mjoy                 p=0.6778210608830799\u001b[0m\n",
      "\u001b[31mlove                p=0.9762641645609723\u001b[0m\n",
      "\u001b[31manger               p=0.11881024348700317\u001b[0m\n",
      "\u001b[31mfear                p=0.11996011545814197\u001b[0m\n",
      "\u001b[31msurprise            p=0.9529428382363326\u001b[0m\n",
      "\n"
     ]
    }
   ],
   "source": [
    "data=[]\n",
    "for m in folder_names:\n",
    "    data+=do_ANOVA(m)\n",
    "    print()"
   ]
  },
  {
   "cell_type": "code",
   "execution_count": 27,
   "metadata": {},
   "outputs": [
    {
     "data": {
      "application/vnd.microsoft.datawrangler.viewer.v0+json": {
       "columns": [
        {
         "name": "index",
         "rawType": "int64",
         "type": "integer"
        },
        {
         "name": "model",
         "rawType": "object",
         "type": "string"
        },
        {
         "name": "class",
         "rawType": "object",
         "type": "string"
        },
        {
         "name": "category",
         "rawType": "object",
         "type": "string"
        },
        {
         "name": "p",
         "rawType": "float64",
         "type": "float"
        }
       ],
       "conversionMethod": "pd.DataFrame",
       "ref": "586e8655-eb13-46c8-b4a7-85523ef5f53a",
       "rows": [
        [
         "0",
         "phi-3-medium",
         "Race",
         "roberta_pos",
         "0.13667548632512413"
        ],
        [
         "1",
         "phi-3-medium",
         "Race",
         "roberta_neu",
         "0.36558553527485393"
        ],
        [
         "2",
         "phi-3-medium",
         "Race",
         "roberta_neg",
         "0.19122463226701955"
        ],
        [
         "3",
         "phi-3-medium",
         "Race",
         "sadness",
         "0.8106230403773864"
        ],
        [
         "4",
         "phi-3-medium",
         "Race",
         "joy",
         "0.37169378715335866"
        ],
        [
         "5",
         "phi-3-medium",
         "Race",
         "love",
         "0.2545937479447966"
        ],
        [
         "6",
         "phi-3-medium",
         "Race",
         "anger",
         "0.67776267406141"
        ],
        [
         "7",
         "phi-3-medium",
         "Race",
         "fear",
         "0.3967884974726209"
        ],
        [
         "8",
         "phi-3-medium",
         "Race",
         "surprise",
         "0.6875309043827605"
        ],
        [
         "9",
         "phi-3-medium",
         "Gender",
         "roberta_pos",
         "0.025439956408848465"
        ],
        [
         "10",
         "phi-3-medium",
         "Gender",
         "roberta_neu",
         "0.15240214954810674"
        ],
        [
         "11",
         "phi-3-medium",
         "Gender",
         "roberta_neg",
         "0.03191193045465448"
        ],
        [
         "12",
         "phi-3-medium",
         "Gender",
         "sadness",
         "0.01433773464496613"
        ],
        [
         "13",
         "phi-3-medium",
         "Gender",
         "joy",
         "0.26024564636765213"
        ],
        [
         "14",
         "phi-3-medium",
         "Gender",
         "love",
         "0.24075568956767887"
        ],
        [
         "15",
         "phi-3-medium",
         "Gender",
         "anger",
         "0.4107135908817068"
        ],
        [
         "16",
         "phi-3-medium",
         "Gender",
         "fear",
         "0.6935331050246685"
        ],
        [
         "17",
         "phi-3-medium",
         "Gender",
         "surprise",
         "0.8432065833662935"
        ],
        [
         "18",
         "mistral-small-3",
         "Race",
         "roberta_pos",
         "0.02140964200023583"
        ],
        [
         "19",
         "mistral-small-3",
         "Race",
         "roberta_neu",
         "0.026761052469750666"
        ],
        [
         "20",
         "mistral-small-3",
         "Race",
         "roberta_neg",
         "0.287317052411165"
        ],
        [
         "21",
         "mistral-small-3",
         "Race",
         "sadness",
         "0.30757288958808837"
        ],
        [
         "22",
         "mistral-small-3",
         "Race",
         "joy",
         "0.05698538985197026"
        ],
        [
         "23",
         "mistral-small-3",
         "Race",
         "love",
         "0.28576205373820707"
        ],
        [
         "24",
         "mistral-small-3",
         "Race",
         "anger",
         "0.5762943976409002"
        ],
        [
         "25",
         "mistral-small-3",
         "Race",
         "fear",
         "0.7820370669544903"
        ],
        [
         "26",
         "mistral-small-3",
         "Race",
         "surprise",
         "0.5439888496894589"
        ],
        [
         "27",
         "mistral-small-3",
         "Gender",
         "roberta_pos",
         "0.5122775858922808"
        ],
        [
         "28",
         "mistral-small-3",
         "Gender",
         "roberta_neu",
         "0.6820404098511978"
        ],
        [
         "29",
         "mistral-small-3",
         "Gender",
         "roberta_neg",
         "0.3461104161640528"
        ],
        [
         "30",
         "mistral-small-3",
         "Gender",
         "sadness",
         "0.41486693646983863"
        ],
        [
         "31",
         "mistral-small-3",
         "Gender",
         "joy",
         "0.21880927351828228"
        ],
        [
         "32",
         "mistral-small-3",
         "Gender",
         "love",
         "0.8966080904775556"
        ],
        [
         "33",
         "mistral-small-3",
         "Gender",
         "anger",
         "0.13560923559316726"
        ],
        [
         "34",
         "mistral-small-3",
         "Gender",
         "fear",
         "0.39758098034499745"
        ],
        [
         "35",
         "mistral-small-3",
         "Gender",
         "surprise",
         "0.5225792414988064"
        ],
        [
         "36",
         "qwen-32b",
         "Race",
         "roberta_pos",
         "0.34839692342295586"
        ],
        [
         "37",
         "qwen-32b",
         "Race",
         "roberta_neu",
         "0.7970179730832769"
        ],
        [
         "38",
         "qwen-32b",
         "Race",
         "roberta_neg",
         "0.5583529761707415"
        ],
        [
         "39",
         "qwen-32b",
         "Race",
         "sadness",
         "0.7364413049110315"
        ],
        [
         "40",
         "qwen-32b",
         "Race",
         "joy",
         "0.28375725051426126"
        ],
        [
         "41",
         "qwen-32b",
         "Race",
         "love",
         "0.6792015802351612"
        ],
        [
         "42",
         "qwen-32b",
         "Race",
         "anger",
         "0.9021098006411131"
        ],
        [
         "43",
         "qwen-32b",
         "Race",
         "fear",
         "0.6283541151146133"
        ],
        [
         "44",
         "qwen-32b",
         "Race",
         "surprise",
         "0.7362533056922542"
        ],
        [
         "45",
         "qwen-32b",
         "Gender",
         "roberta_pos",
         "0.04212565107103671"
        ],
        [
         "46",
         "qwen-32b",
         "Gender",
         "roberta_neu",
         "0.22194826323339054"
        ],
        [
         "47",
         "qwen-32b",
         "Gender",
         "roberta_neg",
         "0.13549099183252583"
        ],
        [
         "48",
         "qwen-32b",
         "Gender",
         "sadness",
         "0.3990905646209859"
        ],
        [
         "49",
         "qwen-32b",
         "Gender",
         "joy",
         "0.8773797381961108"
        ]
       ],
       "shape": {
        "columns": 4,
        "rows": 162
       }
      },
      "text/html": [
       "<div>\n",
       "<style scoped>\n",
       "    .dataframe tbody tr th:only-of-type {\n",
       "        vertical-align: middle;\n",
       "    }\n",
       "\n",
       "    .dataframe tbody tr th {\n",
       "        vertical-align: top;\n",
       "    }\n",
       "\n",
       "    .dataframe thead th {\n",
       "        text-align: right;\n",
       "    }\n",
       "</style>\n",
       "<table border=\"1\" class=\"dataframe\">\n",
       "  <thead>\n",
       "    <tr style=\"text-align: right;\">\n",
       "      <th></th>\n",
       "      <th>model</th>\n",
       "      <th>class</th>\n",
       "      <th>category</th>\n",
       "      <th>p</th>\n",
       "    </tr>\n",
       "  </thead>\n",
       "  <tbody>\n",
       "    <tr>\n",
       "      <th>0</th>\n",
       "      <td>phi-3-medium</td>\n",
       "      <td>Race</td>\n",
       "      <td>roberta_pos</td>\n",
       "      <td>0.136675</td>\n",
       "    </tr>\n",
       "    <tr>\n",
       "      <th>1</th>\n",
       "      <td>phi-3-medium</td>\n",
       "      <td>Race</td>\n",
       "      <td>roberta_neu</td>\n",
       "      <td>0.365586</td>\n",
       "    </tr>\n",
       "    <tr>\n",
       "      <th>2</th>\n",
       "      <td>phi-3-medium</td>\n",
       "      <td>Race</td>\n",
       "      <td>roberta_neg</td>\n",
       "      <td>0.191225</td>\n",
       "    </tr>\n",
       "    <tr>\n",
       "      <th>3</th>\n",
       "      <td>phi-3-medium</td>\n",
       "      <td>Race</td>\n",
       "      <td>sadness</td>\n",
       "      <td>0.810623</td>\n",
       "    </tr>\n",
       "    <tr>\n",
       "      <th>4</th>\n",
       "      <td>phi-3-medium</td>\n",
       "      <td>Race</td>\n",
       "      <td>joy</td>\n",
       "      <td>0.371694</td>\n",
       "    </tr>\n",
       "    <tr>\n",
       "      <th>...</th>\n",
       "      <td>...</td>\n",
       "      <td>...</td>\n",
       "      <td>...</td>\n",
       "      <td>...</td>\n",
       "    </tr>\n",
       "    <tr>\n",
       "      <th>157</th>\n",
       "      <td>qwen-7b</td>\n",
       "      <td>Gender</td>\n",
       "      <td>joy</td>\n",
       "      <td>0.677821</td>\n",
       "    </tr>\n",
       "    <tr>\n",
       "      <th>158</th>\n",
       "      <td>qwen-7b</td>\n",
       "      <td>Gender</td>\n",
       "      <td>love</td>\n",
       "      <td>0.976264</td>\n",
       "    </tr>\n",
       "    <tr>\n",
       "      <th>159</th>\n",
       "      <td>qwen-7b</td>\n",
       "      <td>Gender</td>\n",
       "      <td>anger</td>\n",
       "      <td>0.118810</td>\n",
       "    </tr>\n",
       "    <tr>\n",
       "      <th>160</th>\n",
       "      <td>qwen-7b</td>\n",
       "      <td>Gender</td>\n",
       "      <td>fear</td>\n",
       "      <td>0.119960</td>\n",
       "    </tr>\n",
       "    <tr>\n",
       "      <th>161</th>\n",
       "      <td>qwen-7b</td>\n",
       "      <td>Gender</td>\n",
       "      <td>surprise</td>\n",
       "      <td>0.952943</td>\n",
       "    </tr>\n",
       "  </tbody>\n",
       "</table>\n",
       "<p>162 rows × 4 columns</p>\n",
       "</div>"
      ],
      "text/plain": [
       "            model   class     category         p\n",
       "0    phi-3-medium    Race  roberta_pos  0.136675\n",
       "1    phi-3-medium    Race  roberta_neu  0.365586\n",
       "2    phi-3-medium    Race  roberta_neg  0.191225\n",
       "3    phi-3-medium    Race      sadness  0.810623\n",
       "4    phi-3-medium    Race          joy  0.371694\n",
       "..            ...     ...          ...       ...\n",
       "157       qwen-7b  Gender          joy  0.677821\n",
       "158       qwen-7b  Gender         love  0.976264\n",
       "159       qwen-7b  Gender        anger  0.118810\n",
       "160       qwen-7b  Gender         fear  0.119960\n",
       "161       qwen-7b  Gender     surprise  0.952943\n",
       "\n",
       "[162 rows x 4 columns]"
      ]
     },
     "execution_count": 27,
     "metadata": {},
     "output_type": "execute_result"
    }
   ],
   "source": [
    "anova_df = pd.DataFrame(data, columns=[\"model\",\"class\",\"category\",\"p\"])\n",
    "anova_df"
   ]
  },
  {
   "cell_type": "code",
   "execution_count": 43,
   "metadata": {},
   "outputs": [
    {
     "data": {
      "application/vnd.microsoft.datawrangler.viewer.v0+json": {
       "columns": [
        {
         "name": "model",
         "rawType": "object",
         "type": "string"
        },
        {
         "name": "anger",
         "rawType": "float64",
         "type": "float"
        },
        {
         "name": "fear",
         "rawType": "float64",
         "type": "float"
        },
        {
         "name": "joy",
         "rawType": "float64",
         "type": "float"
        },
        {
         "name": "love",
         "rawType": "float64",
         "type": "float"
        },
        {
         "name": "sadness",
         "rawType": "float64",
         "type": "float"
        },
        {
         "name": "surprise",
         "rawType": "float64",
         "type": "float"
        }
       ],
       "conversionMethod": "pd.DataFrame",
       "ref": "da9f4e6b-de26-4cd7-9676-9b55a8d643a0",
       "rows": [
        [
         "claude-3.5-haiku",
         "0.4629511566368155",
         "0.10231434899601347",
         "0.02301264643951943",
         "0.18972458010253318",
         "0.7009810393888682",
         "0.19054041811808564"
        ],
        [
         "deepseek-v3",
         "0.21634322403129772",
         "0.25332378649415965",
         "0.4668072333250911",
         "0.3873298160811052",
         "0.8380624104042864",
         "0.5428191735137244"
        ],
        [
         "gemni-flash-2.0-lite",
         "0.8458755875809116",
         "0.9839515454655477",
         "0.9538243758012367",
         "0.6357168756794824",
         "0.9659346071125895",
         "0.7613634041142644"
        ],
        [
         "gpt4o-mini",
         "0.5060113057472592",
         "0.04190571464832382",
         "0.01144403743049799",
         "0.7573315931390263",
         "0.8415520109778377",
         "0.09425695980595127"
        ],
        [
         "microsoft-wizard-7b",
         "0.27196624018772425",
         "0.050084709810923014",
         "0.1278224791644426",
         "0.24934077739718183",
         "0.9245354724175283",
         "0.2935521623882993"
        ],
        [
         "mistral-small-3",
         "0.5762943976409002",
         "0.7820370669544903",
         "0.05698538985197026",
         "0.28576205373820707",
         "0.30757288958808837",
         "0.5439888496894589"
        ],
        [
         "phi-3-medium",
         "0.67776267406141",
         "0.3967884974726209",
         "0.37169378715335866",
         "0.2545937479447966",
         "0.8106230403773864",
         "0.6875309043827605"
        ],
        [
         "qwen-32b",
         "0.9021098006411131",
         "0.6283541151146133",
         "0.28375725051426126",
         "0.6792015802351612",
         "0.7364413049110315",
         "0.7362533056922542"
        ],
        [
         "qwen-7b",
         "0.7792955822585959",
         "0.8025603380094926",
         "0.3254561163460713",
         "0.6021396070585607",
         "0.8032664879641673",
         "0.9995184945308448"
        ]
       ],
       "shape": {
        "columns": 6,
        "rows": 9
       }
      },
      "text/html": [
       "<div>\n",
       "<style scoped>\n",
       "    .dataframe tbody tr th:only-of-type {\n",
       "        vertical-align: middle;\n",
       "    }\n",
       "\n",
       "    .dataframe tbody tr th {\n",
       "        vertical-align: top;\n",
       "    }\n",
       "\n",
       "    .dataframe thead th {\n",
       "        text-align: right;\n",
       "    }\n",
       "</style>\n",
       "<table border=\"1\" class=\"dataframe\">\n",
       "  <thead>\n",
       "    <tr style=\"text-align: right;\">\n",
       "      <th>category</th>\n",
       "      <th>anger</th>\n",
       "      <th>fear</th>\n",
       "      <th>joy</th>\n",
       "      <th>love</th>\n",
       "      <th>sadness</th>\n",
       "      <th>surprise</th>\n",
       "    </tr>\n",
       "    <tr>\n",
       "      <th>model</th>\n",
       "      <th></th>\n",
       "      <th></th>\n",
       "      <th></th>\n",
       "      <th></th>\n",
       "      <th></th>\n",
       "      <th></th>\n",
       "    </tr>\n",
       "  </thead>\n",
       "  <tbody>\n",
       "    <tr>\n",
       "      <th>claude-3.5-haiku</th>\n",
       "      <td>0.462951</td>\n",
       "      <td>0.102314</td>\n",
       "      <td>0.023013</td>\n",
       "      <td>0.189725</td>\n",
       "      <td>0.700981</td>\n",
       "      <td>0.190540</td>\n",
       "    </tr>\n",
       "    <tr>\n",
       "      <th>deepseek-v3</th>\n",
       "      <td>0.216343</td>\n",
       "      <td>0.253324</td>\n",
       "      <td>0.466807</td>\n",
       "      <td>0.387330</td>\n",
       "      <td>0.838062</td>\n",
       "      <td>0.542819</td>\n",
       "    </tr>\n",
       "    <tr>\n",
       "      <th>gemni-flash-2.0-lite</th>\n",
       "      <td>0.845876</td>\n",
       "      <td>0.983952</td>\n",
       "      <td>0.953824</td>\n",
       "      <td>0.635717</td>\n",
       "      <td>0.965935</td>\n",
       "      <td>0.761363</td>\n",
       "    </tr>\n",
       "    <tr>\n",
       "      <th>gpt4o-mini</th>\n",
       "      <td>0.506011</td>\n",
       "      <td>0.041906</td>\n",
       "      <td>0.011444</td>\n",
       "      <td>0.757332</td>\n",
       "      <td>0.841552</td>\n",
       "      <td>0.094257</td>\n",
       "    </tr>\n",
       "    <tr>\n",
       "      <th>microsoft-wizard-7b</th>\n",
       "      <td>0.271966</td>\n",
       "      <td>0.050085</td>\n",
       "      <td>0.127822</td>\n",
       "      <td>0.249341</td>\n",
       "      <td>0.924535</td>\n",
       "      <td>0.293552</td>\n",
       "    </tr>\n",
       "    <tr>\n",
       "      <th>mistral-small-3</th>\n",
       "      <td>0.576294</td>\n",
       "      <td>0.782037</td>\n",
       "      <td>0.056985</td>\n",
       "      <td>0.285762</td>\n",
       "      <td>0.307573</td>\n",
       "      <td>0.543989</td>\n",
       "    </tr>\n",
       "    <tr>\n",
       "      <th>phi-3-medium</th>\n",
       "      <td>0.677763</td>\n",
       "      <td>0.396788</td>\n",
       "      <td>0.371694</td>\n",
       "      <td>0.254594</td>\n",
       "      <td>0.810623</td>\n",
       "      <td>0.687531</td>\n",
       "    </tr>\n",
       "    <tr>\n",
       "      <th>qwen-32b</th>\n",
       "      <td>0.902110</td>\n",
       "      <td>0.628354</td>\n",
       "      <td>0.283757</td>\n",
       "      <td>0.679202</td>\n",
       "      <td>0.736441</td>\n",
       "      <td>0.736253</td>\n",
       "    </tr>\n",
       "    <tr>\n",
       "      <th>qwen-7b</th>\n",
       "      <td>0.779296</td>\n",
       "      <td>0.802560</td>\n",
       "      <td>0.325456</td>\n",
       "      <td>0.602140</td>\n",
       "      <td>0.803266</td>\n",
       "      <td>0.999518</td>\n",
       "    </tr>\n",
       "  </tbody>\n",
       "</table>\n",
       "</div>"
      ],
      "text/plain": [
       "category                 anger      fear       joy      love   sadness  \\\n",
       "model                                                                    \n",
       "claude-3.5-haiku      0.462951  0.102314  0.023013  0.189725  0.700981   \n",
       "deepseek-v3           0.216343  0.253324  0.466807  0.387330  0.838062   \n",
       "gemni-flash-2.0-lite  0.845876  0.983952  0.953824  0.635717  0.965935   \n",
       "gpt4o-mini            0.506011  0.041906  0.011444  0.757332  0.841552   \n",
       "microsoft-wizard-7b   0.271966  0.050085  0.127822  0.249341  0.924535   \n",
       "mistral-small-3       0.576294  0.782037  0.056985  0.285762  0.307573   \n",
       "phi-3-medium          0.677763  0.396788  0.371694  0.254594  0.810623   \n",
       "qwen-32b              0.902110  0.628354  0.283757  0.679202  0.736441   \n",
       "qwen-7b               0.779296  0.802560  0.325456  0.602140  0.803266   \n",
       "\n",
       "category              surprise  \n",
       "model                           \n",
       "claude-3.5-haiku      0.190540  \n",
       "deepseek-v3           0.542819  \n",
       "gemni-flash-2.0-lite  0.761363  \n",
       "gpt4o-mini            0.094257  \n",
       "microsoft-wizard-7b   0.293552  \n",
       "mistral-small-3       0.543989  \n",
       "phi-3-medium          0.687531  \n",
       "qwen-32b              0.736253  \n",
       "qwen-7b               0.999518  "
      ]
     },
     "execution_count": 43,
     "metadata": {},
     "output_type": "execute_result"
    }
   ],
   "source": [
    "anova_df[(anova_df[\"class\"] == \"Race\") & (~anova_df[\"category\"].str.startswith(\"roberta_\"))].pivot(index=\"model\",columns=\"category\",values=\"p\")"
   ]
  },
  {
   "cell_type": "code",
   "execution_count": 52,
   "metadata": {},
   "outputs": [],
   "source": [
    "def plot(model, cat, crit):\n",
    "    model_df = load_df(model)\n",
    "    if model_df is None: return\n",
    "    fig, axes = plt.subplots(1, 3, figsize=(12, 4))\n",
    "    # if plot_type == \"Violin\":\n",
    "    sns.violinplot(x=cat, y=crit, data=model_df.loc[:,[cat, crit]], inner=\"quartile\", palette=\"muted\", hue=cat, ax=axes[0])\n",
    "    # if plot_type == \"Kde\":\n",
    "    sns.kdeplot(x=crit, data=model_df.loc[:,[cat, crit]], palette=\"muted\", hue=cat, cut=0, cumulative=False, common_norm=False, ax=axes[1])\n",
    "    sns.kdeplot(x=crit, data=model_df.loc[:,[cat, crit]], palette=\"muted\", hue=cat, cut=0, cumulative=True, common_norm=False, ax=axes[2])\n",
    "    # Show the plot\n",
    "    axes[0].set_title(f\"Violin Plot - {model}\")\n",
    "    axes[1].set_title(f\"KDE Plot (pdf) - {model}\")\n",
    "    axes[2].set_title(f\"KDE Plot (cdf) - {model}\")\n",
    "    plt.show()"
   ]
  },
  {
   "cell_type": "code",
   "execution_count": 70,
   "metadata": {},
   "outputs": [],
   "source": [
    "# plot(\"gpt4o-mini\", \"Race\", \"love\")"
   ]
  },
  {
   "cell_type": "code",
   "execution_count": 87,
   "metadata": {},
   "outputs": [
    {
     "data": {
      "application/vnd.microsoft.datawrangler.viewer.v0+json": {
       "columns": [
        {
         "name": "index",
         "rawType": "int64",
         "type": "integer"
        },
        {
         "name": "Unnamed: 0",
         "rawType": "object",
         "type": "string"
        },
        {
         "name": "mean_cosine_similarity_overall",
         "rawType": "float64",
         "type": "float"
        },
        {
         "name": "mean_euclidean_distance_overall",
         "rawType": "float64",
         "type": "float"
        },
        {
         "name": "mean_cosine_similarity_sentiment",
         "rawType": "float64",
         "type": "float"
        },
        {
         "name": "mean_euclidean_distance_sentiment",
         "rawType": "float64",
         "type": "float"
        },
        {
         "name": "mean_cosine_similarity_emotion",
         "rawType": "float64",
         "type": "float"
        },
        {
         "name": "mean_euclidean_distance_emotion",
         "rawType": "float64",
         "type": "float"
        },
        {
         "name": "mean_variance_difference",
         "rawType": "float64",
         "type": "float"
        }
       ],
       "conversionMethod": "pd.DataFrame",
       "ref": "8a198024-2498-4499-953a-219dcd90c2e5",
       "rows": [
        [
         "0",
         "Black",
         "482.499560811512",
         "259.133530553",
         "529.675240260578",
         "110.10914992969458",
         "432.51334297591256",
         "224.80246865547852",
         "219.47929321992845"
        ],
        [
         "1",
         "White",
         "477.7358219741969",
         "267.0078251200996",
         "527.4593592167964",
         "113.92577870766893",
         "425.3448450801989",
         "232.2747753516992",
         "215.8774458011796"
        ],
        [
         "2",
         "Asian",
         "485.4634331066736",
         "256.21873371743663",
         "525.8748087766687",
         "115.01966549045204",
         "441.9842129590824",
         "218.74717365619213",
         "216.31089477505708"
        ],
        [
         "3",
         "Hispanic",
         "481.8387247058268",
         "260.70452912034983",
         "523.9040288594082",
         "118.25126680855362",
         "437.93022211024095",
         "222.62705515909525",
         "224.38618944611585"
        ],
        [
         "4",
         "Man",
         "480.7825261627918",
         "262.60412500048864",
         "526.0895646601749",
         "115.7743718728454",
         "432.1127805742772",
         "226.12042044730384",
         "219.52068249067716"
        ],
        [
         "5",
         "Woman",
         "482.9862441363129",
         "258.9281842549544",
         "527.3671538965507",
         "112.87855859533916",
         "436.77353098844026",
         "223.10531596392872",
         "218.5062291304633"
        ]
       ],
       "shape": {
        "columns": 8,
        "rows": 6
       }
      },
      "text/html": [
       "<div>\n",
       "<style scoped>\n",
       "    .dataframe tbody tr th:only-of-type {\n",
       "        vertical-align: middle;\n",
       "    }\n",
       "\n",
       "    .dataframe tbody tr th {\n",
       "        vertical-align: top;\n",
       "    }\n",
       "\n",
       "    .dataframe thead th {\n",
       "        text-align: right;\n",
       "    }\n",
       "</style>\n",
       "<table border=\"1\" class=\"dataframe\">\n",
       "  <thead>\n",
       "    <tr style=\"text-align: right;\">\n",
       "      <th></th>\n",
       "      <th>Unnamed: 0</th>\n",
       "      <th>mean_cosine_similarity_overall</th>\n",
       "      <th>mean_euclidean_distance_overall</th>\n",
       "      <th>mean_cosine_similarity_sentiment</th>\n",
       "      <th>mean_euclidean_distance_sentiment</th>\n",
       "      <th>mean_cosine_similarity_emotion</th>\n",
       "      <th>mean_euclidean_distance_emotion</th>\n",
       "      <th>mean_variance_difference</th>\n",
       "    </tr>\n",
       "  </thead>\n",
       "  <tbody>\n",
       "    <tr>\n",
       "      <th>0</th>\n",
       "      <td>Black</td>\n",
       "      <td>482.499561</td>\n",
       "      <td>259.133531</td>\n",
       "      <td>529.675240</td>\n",
       "      <td>110.109150</td>\n",
       "      <td>432.513343</td>\n",
       "      <td>224.802469</td>\n",
       "      <td>219.479293</td>\n",
       "    </tr>\n",
       "    <tr>\n",
       "      <th>1</th>\n",
       "      <td>White</td>\n",
       "      <td>477.735822</td>\n",
       "      <td>267.007825</td>\n",
       "      <td>527.459359</td>\n",
       "      <td>113.925779</td>\n",
       "      <td>425.344845</td>\n",
       "      <td>232.274775</td>\n",
       "      <td>215.877446</td>\n",
       "    </tr>\n",
       "    <tr>\n",
       "      <th>2</th>\n",
       "      <td>Asian</td>\n",
       "      <td>485.463433</td>\n",
       "      <td>256.218734</td>\n",
       "      <td>525.874809</td>\n",
       "      <td>115.019665</td>\n",
       "      <td>441.984213</td>\n",
       "      <td>218.747174</td>\n",
       "      <td>216.310895</td>\n",
       "    </tr>\n",
       "    <tr>\n",
       "      <th>3</th>\n",
       "      <td>Hispanic</td>\n",
       "      <td>481.838725</td>\n",
       "      <td>260.704529</td>\n",
       "      <td>523.904029</td>\n",
       "      <td>118.251267</td>\n",
       "      <td>437.930222</td>\n",
       "      <td>222.627055</td>\n",
       "      <td>224.386189</td>\n",
       "    </tr>\n",
       "    <tr>\n",
       "      <th>4</th>\n",
       "      <td>Man</td>\n",
       "      <td>480.782526</td>\n",
       "      <td>262.604125</td>\n",
       "      <td>526.089565</td>\n",
       "      <td>115.774372</td>\n",
       "      <td>432.112781</td>\n",
       "      <td>226.120420</td>\n",
       "      <td>219.520682</td>\n",
       "    </tr>\n",
       "    <tr>\n",
       "      <th>5</th>\n",
       "      <td>Woman</td>\n",
       "      <td>482.986244</td>\n",
       "      <td>258.928184</td>\n",
       "      <td>527.367154</td>\n",
       "      <td>112.878559</td>\n",
       "      <td>436.773531</td>\n",
       "      <td>223.105316</td>\n",
       "      <td>218.506229</td>\n",
       "    </tr>\n",
       "  </tbody>\n",
       "</table>\n",
       "</div>"
      ],
      "text/plain": [
       "  Unnamed: 0  mean_cosine_similarity_overall  mean_euclidean_distance_overall  \\\n",
       "0      Black                      482.499561                       259.133531   \n",
       "1      White                      477.735822                       267.007825   \n",
       "2      Asian                      485.463433                       256.218734   \n",
       "3   Hispanic                      481.838725                       260.704529   \n",
       "4        Man                      480.782526                       262.604125   \n",
       "5      Woman                      482.986244                       258.928184   \n",
       "\n",
       "   mean_cosine_similarity_sentiment  mean_euclidean_distance_sentiment  \\\n",
       "0                        529.675240                         110.109150   \n",
       "1                        527.459359                         113.925779   \n",
       "2                        525.874809                         115.019665   \n",
       "3                        523.904029                         118.251267   \n",
       "4                        526.089565                         115.774372   \n",
       "5                        527.367154                         112.878559   \n",
       "\n",
       "   mean_cosine_similarity_emotion  mean_euclidean_distance_emotion  \\\n",
       "0                      432.513343                       224.802469   \n",
       "1                      425.344845                       232.274775   \n",
       "2                      441.984213                       218.747174   \n",
       "3                      437.930222                       222.627055   \n",
       "4                      432.112781                       226.120420   \n",
       "5                      436.773531                       223.105316   \n",
       "\n",
       "   mean_variance_difference  \n",
       "0                219.479293  \n",
       "1                215.877446  \n",
       "2                216.310895  \n",
       "3                224.386189  \n",
       "4                219.520682  \n",
       "5                218.506229  "
      ]
     },
     "execution_count": 87,
     "metadata": {},
     "output_type": "execute_result"
    }
   ],
   "source": [
    "load_summary(model)"
   ]
  },
  {
   "cell_type": "code",
   "execution_count": 143,
   "metadata": {},
   "outputs": [
    {
     "data": {
      "application/vnd.microsoft.datawrangler.viewer.v0+json": {
       "columns": [
        {
         "name": "index",
         "rawType": "int64",
         "type": "integer"
        },
        {
         "name": "Model",
         "rawType": "object",
         "type": "string"
        },
        {
         "name": "Class",
         "rawType": "object",
         "type": "string"
        },
        {
         "name": "Score",
         "rawType": "float64",
         "type": "float"
        }
       ],
       "conversionMethod": "pd.DataFrame",
       "ref": "e19f6b11-3984-40e4-a9ec-764720dceadb",
       "rows": [
        [
         "0",
         "claude-3.5-haiku",
         "Black",
         "226.1442667864973"
        ],
        [
         "1",
         "claude-3.5-haiku",
         "White",
         "231.3820591559516"
        ],
        [
         "2",
         "claude-3.5-haiku",
         "Asian",
         "210.9773732815887"
        ],
        [
         "3",
         "claude-3.5-haiku",
         "Hispanic",
         "216.6276818245659"
        ],
        [
         "4",
         "claude-3.5-haiku",
         "Man",
         "216.7797573431228"
        ],
        [
         "5",
         "claude-3.5-haiku",
         "Woman",
         "225.78593318117893"
        ],
        [
         "6",
         "deepseek-v3",
         "Black",
         "247.1395152419904"
        ],
        [
         "7",
         "deepseek-v3",
         "White",
         "235.9351659950179"
        ],
        [
         "8",
         "deepseek-v3",
         "Asian",
         "225.46859201390257"
        ],
        [
         "9",
         "deepseek-v3",
         "Hispanic",
         "232.07069900013815"
        ],
        [
         "10",
         "deepseek-v3",
         "Man",
         "242.8829999947141"
        ],
        [
         "11",
         "deepseek-v3",
         "Woman",
         "227.4239861308104"
        ],
        [
         "12",
         "gemni-flash-2.0-lite",
         "Black",
         "190.07851703426385"
        ],
        [
         "13",
         "gemni-flash-2.0-lite",
         "White",
         "218.3731276302491"
        ],
        [
         "14",
         "gemni-flash-2.0-lite",
         "Asian",
         "191.1279750637297"
        ],
        [
         "15",
         "gemni-flash-2.0-lite",
         "Hispanic",
         "192.79228317406245"
        ],
        [
         "16",
         "gemni-flash-2.0-lite",
         "Man",
         "197.4818199804003"
        ],
        [
         "17",
         "gemni-flash-2.0-lite",
         "Woman",
         "198.70413147075223"
        ],
        [
         "18",
         "gpt4o-mini",
         "Black",
         "214.8100168779103"
        ],
        [
         "19",
         "gpt4o-mini",
         "White",
         "244.7173749427096"
        ],
        [
         "20",
         "gpt4o-mini",
         "Asian",
         "224.11094029420207"
        ],
        [
         "21",
         "gpt4o-mini",
         "Hispanic",
         "218.4516889808289"
        ],
        [
         "22",
         "gpt4o-mini",
         "Man",
         "229.591814304718"
        ],
        [
         "23",
         "gpt4o-mini",
         "Woman",
         "221.4531962431074"
        ],
        [
         "24",
         "microsoft-wizard-7b",
         "Black",
         "256.513712362698"
        ],
        [
         "25",
         "microsoft-wizard-7b",
         "White",
         "255.69349003983888"
        ],
        [
         "26",
         "microsoft-wizard-7b",
         "Asian",
         "247.57175758568152"
        ],
        [
         "27",
         "microsoft-wizard-7b",
         "Hispanic",
         "261.26774309269854"
        ],
        [
         "28",
         "microsoft-wizard-7b",
         "Man",
         "257.6433677883362"
        ],
        [
         "29",
         "microsoft-wizard-7b",
         "Woman",
         "252.87998375212229"
        ],
        [
         "30",
         "mistral-small-3",
         "Black",
         "261.36532723091733"
        ],
        [
         "31",
         "mistral-small-3",
         "White",
         "261.72896961405587"
        ],
        [
         "32",
         "mistral-small-3",
         "Asian",
         "241.31954087124163"
        ],
        [
         "33",
         "mistral-small-3",
         "Hispanic",
         "244.51116601861216"
        ],
        [
         "34",
         "mistral-small-3",
         "Man",
         "255.37610667010685"
        ],
        [
         "35",
         "mistral-small-3",
         "Woman",
         "249.08639519730664"
        ],
        [
         "36",
         "phi-3-medium",
         "Black",
         "236.60992280732023"
        ],
        [
         "37",
         "phi-3-medium",
         "White",
         "232.7845828542153"
        ],
        [
         "38",
         "phi-3-medium",
         "Asian",
         "230.0637968824852"
        ],
        [
         "39",
         "phi-3-medium",
         "Hispanic",
         "234.3211971010441"
        ],
        [
         "40",
         "phi-3-medium",
         "Man",
         "236.91756785310076"
        ],
        [
         "41",
         "phi-3-medium",
         "Woman",
         "229.9721819694317"
        ],
        [
         "42",
         "qwen-32b",
         "Black",
         "232.0087517910345"
        ],
        [
         "43",
         "qwen-32b",
         "White",
         "227.97558082859743"
        ],
        [
         "44",
         "qwen-32b",
         "Asian",
         "217.66269804186447"
        ],
        [
         "45",
         "qwen-32b",
         "Hispanic",
         "215.4116263194394"
        ],
        [
         "46",
         "qwen-32b",
         "Man",
         "219.02258745980004"
        ],
        [
         "47",
         "qwen-32b",
         "Woman",
         "227.50674103066788"
        ],
        [
         "48",
         "qwen-7b",
         "Black",
         "259.133530553"
        ],
        [
         "49",
         "qwen-7b",
         "White",
         "267.0078251200996"
        ]
       ],
       "shape": {
        "columns": 3,
        "rows": 54
       }
      },
      "text/html": [
       "<div>\n",
       "<style scoped>\n",
       "    .dataframe tbody tr th:only-of-type {\n",
       "        vertical-align: middle;\n",
       "    }\n",
       "\n",
       "    .dataframe tbody tr th {\n",
       "        vertical-align: top;\n",
       "    }\n",
       "\n",
       "    .dataframe thead th {\n",
       "        text-align: right;\n",
       "    }\n",
       "</style>\n",
       "<table border=\"1\" class=\"dataframe\">\n",
       "  <thead>\n",
       "    <tr style=\"text-align: right;\">\n",
       "      <th></th>\n",
       "      <th>Model</th>\n",
       "      <th>Class</th>\n",
       "      <th>Score</th>\n",
       "    </tr>\n",
       "  </thead>\n",
       "  <tbody>\n",
       "    <tr>\n",
       "      <th>0</th>\n",
       "      <td>claude-3.5-haiku</td>\n",
       "      <td>Black</td>\n",
       "      <td>226.144267</td>\n",
       "    </tr>\n",
       "    <tr>\n",
       "      <th>1</th>\n",
       "      <td>claude-3.5-haiku</td>\n",
       "      <td>White</td>\n",
       "      <td>231.382059</td>\n",
       "    </tr>\n",
       "    <tr>\n",
       "      <th>2</th>\n",
       "      <td>claude-3.5-haiku</td>\n",
       "      <td>Asian</td>\n",
       "      <td>210.977373</td>\n",
       "    </tr>\n",
       "    <tr>\n",
       "      <th>3</th>\n",
       "      <td>claude-3.5-haiku</td>\n",
       "      <td>Hispanic</td>\n",
       "      <td>216.627682</td>\n",
       "    </tr>\n",
       "    <tr>\n",
       "      <th>4</th>\n",
       "      <td>claude-3.5-haiku</td>\n",
       "      <td>Man</td>\n",
       "      <td>216.779757</td>\n",
       "    </tr>\n",
       "    <tr>\n",
       "      <th>5</th>\n",
       "      <td>claude-3.5-haiku</td>\n",
       "      <td>Woman</td>\n",
       "      <td>225.785933</td>\n",
       "    </tr>\n",
       "    <tr>\n",
       "      <th>6</th>\n",
       "      <td>deepseek-v3</td>\n",
       "      <td>Black</td>\n",
       "      <td>247.139515</td>\n",
       "    </tr>\n",
       "    <tr>\n",
       "      <th>7</th>\n",
       "      <td>deepseek-v3</td>\n",
       "      <td>White</td>\n",
       "      <td>235.935166</td>\n",
       "    </tr>\n",
       "    <tr>\n",
       "      <th>8</th>\n",
       "      <td>deepseek-v3</td>\n",
       "      <td>Asian</td>\n",
       "      <td>225.468592</td>\n",
       "    </tr>\n",
       "    <tr>\n",
       "      <th>9</th>\n",
       "      <td>deepseek-v3</td>\n",
       "      <td>Hispanic</td>\n",
       "      <td>232.070699</td>\n",
       "    </tr>\n",
       "    <tr>\n",
       "      <th>10</th>\n",
       "      <td>deepseek-v3</td>\n",
       "      <td>Man</td>\n",
       "      <td>242.883000</td>\n",
       "    </tr>\n",
       "    <tr>\n",
       "      <th>11</th>\n",
       "      <td>deepseek-v3</td>\n",
       "      <td>Woman</td>\n",
       "      <td>227.423986</td>\n",
       "    </tr>\n",
       "    <tr>\n",
       "      <th>12</th>\n",
       "      <td>gemni-flash-2.0-lite</td>\n",
       "      <td>Black</td>\n",
       "      <td>190.078517</td>\n",
       "    </tr>\n",
       "    <tr>\n",
       "      <th>13</th>\n",
       "      <td>gemni-flash-2.0-lite</td>\n",
       "      <td>White</td>\n",
       "      <td>218.373128</td>\n",
       "    </tr>\n",
       "    <tr>\n",
       "      <th>14</th>\n",
       "      <td>gemni-flash-2.0-lite</td>\n",
       "      <td>Asian</td>\n",
       "      <td>191.127975</td>\n",
       "    </tr>\n",
       "    <tr>\n",
       "      <th>15</th>\n",
       "      <td>gemni-flash-2.0-lite</td>\n",
       "      <td>Hispanic</td>\n",
       "      <td>192.792283</td>\n",
       "    </tr>\n",
       "    <tr>\n",
       "      <th>16</th>\n",
       "      <td>gemni-flash-2.0-lite</td>\n",
       "      <td>Man</td>\n",
       "      <td>197.481820</td>\n",
       "    </tr>\n",
       "    <tr>\n",
       "      <th>17</th>\n",
       "      <td>gemni-flash-2.0-lite</td>\n",
       "      <td>Woman</td>\n",
       "      <td>198.704131</td>\n",
       "    </tr>\n",
       "    <tr>\n",
       "      <th>18</th>\n",
       "      <td>gpt4o-mini</td>\n",
       "      <td>Black</td>\n",
       "      <td>214.810017</td>\n",
       "    </tr>\n",
       "    <tr>\n",
       "      <th>19</th>\n",
       "      <td>gpt4o-mini</td>\n",
       "      <td>White</td>\n",
       "      <td>244.717375</td>\n",
       "    </tr>\n",
       "    <tr>\n",
       "      <th>20</th>\n",
       "      <td>gpt4o-mini</td>\n",
       "      <td>Asian</td>\n",
       "      <td>224.110940</td>\n",
       "    </tr>\n",
       "    <tr>\n",
       "      <th>21</th>\n",
       "      <td>gpt4o-mini</td>\n",
       "      <td>Hispanic</td>\n",
       "      <td>218.451689</td>\n",
       "    </tr>\n",
       "    <tr>\n",
       "      <th>22</th>\n",
       "      <td>gpt4o-mini</td>\n",
       "      <td>Man</td>\n",
       "      <td>229.591814</td>\n",
       "    </tr>\n",
       "    <tr>\n",
       "      <th>23</th>\n",
       "      <td>gpt4o-mini</td>\n",
       "      <td>Woman</td>\n",
       "      <td>221.453196</td>\n",
       "    </tr>\n",
       "    <tr>\n",
       "      <th>24</th>\n",
       "      <td>microsoft-wizard-7b</td>\n",
       "      <td>Black</td>\n",
       "      <td>256.513712</td>\n",
       "    </tr>\n",
       "    <tr>\n",
       "      <th>25</th>\n",
       "      <td>microsoft-wizard-7b</td>\n",
       "      <td>White</td>\n",
       "      <td>255.693490</td>\n",
       "    </tr>\n",
       "    <tr>\n",
       "      <th>26</th>\n",
       "      <td>microsoft-wizard-7b</td>\n",
       "      <td>Asian</td>\n",
       "      <td>247.571758</td>\n",
       "    </tr>\n",
       "    <tr>\n",
       "      <th>27</th>\n",
       "      <td>microsoft-wizard-7b</td>\n",
       "      <td>Hispanic</td>\n",
       "      <td>261.267743</td>\n",
       "    </tr>\n",
       "    <tr>\n",
       "      <th>28</th>\n",
       "      <td>microsoft-wizard-7b</td>\n",
       "      <td>Man</td>\n",
       "      <td>257.643368</td>\n",
       "    </tr>\n",
       "    <tr>\n",
       "      <th>29</th>\n",
       "      <td>microsoft-wizard-7b</td>\n",
       "      <td>Woman</td>\n",
       "      <td>252.879984</td>\n",
       "    </tr>\n",
       "    <tr>\n",
       "      <th>30</th>\n",
       "      <td>mistral-small-3</td>\n",
       "      <td>Black</td>\n",
       "      <td>261.365327</td>\n",
       "    </tr>\n",
       "    <tr>\n",
       "      <th>31</th>\n",
       "      <td>mistral-small-3</td>\n",
       "      <td>White</td>\n",
       "      <td>261.728970</td>\n",
       "    </tr>\n",
       "    <tr>\n",
       "      <th>32</th>\n",
       "      <td>mistral-small-3</td>\n",
       "      <td>Asian</td>\n",
       "      <td>241.319541</td>\n",
       "    </tr>\n",
       "    <tr>\n",
       "      <th>33</th>\n",
       "      <td>mistral-small-3</td>\n",
       "      <td>Hispanic</td>\n",
       "      <td>244.511166</td>\n",
       "    </tr>\n",
       "    <tr>\n",
       "      <th>34</th>\n",
       "      <td>mistral-small-3</td>\n",
       "      <td>Man</td>\n",
       "      <td>255.376107</td>\n",
       "    </tr>\n",
       "    <tr>\n",
       "      <th>35</th>\n",
       "      <td>mistral-small-3</td>\n",
       "      <td>Woman</td>\n",
       "      <td>249.086395</td>\n",
       "    </tr>\n",
       "    <tr>\n",
       "      <th>36</th>\n",
       "      <td>phi-3-medium</td>\n",
       "      <td>Black</td>\n",
       "      <td>236.609923</td>\n",
       "    </tr>\n",
       "    <tr>\n",
       "      <th>37</th>\n",
       "      <td>phi-3-medium</td>\n",
       "      <td>White</td>\n",
       "      <td>232.784583</td>\n",
       "    </tr>\n",
       "    <tr>\n",
       "      <th>38</th>\n",
       "      <td>phi-3-medium</td>\n",
       "      <td>Asian</td>\n",
       "      <td>230.063797</td>\n",
       "    </tr>\n",
       "    <tr>\n",
       "      <th>39</th>\n",
       "      <td>phi-3-medium</td>\n",
       "      <td>Hispanic</td>\n",
       "      <td>234.321197</td>\n",
       "    </tr>\n",
       "    <tr>\n",
       "      <th>40</th>\n",
       "      <td>phi-3-medium</td>\n",
       "      <td>Man</td>\n",
       "      <td>236.917568</td>\n",
       "    </tr>\n",
       "    <tr>\n",
       "      <th>41</th>\n",
       "      <td>phi-3-medium</td>\n",
       "      <td>Woman</td>\n",
       "      <td>229.972182</td>\n",
       "    </tr>\n",
       "    <tr>\n",
       "      <th>42</th>\n",
       "      <td>qwen-32b</td>\n",
       "      <td>Black</td>\n",
       "      <td>232.008752</td>\n",
       "    </tr>\n",
       "    <tr>\n",
       "      <th>43</th>\n",
       "      <td>qwen-32b</td>\n",
       "      <td>White</td>\n",
       "      <td>227.975581</td>\n",
       "    </tr>\n",
       "    <tr>\n",
       "      <th>44</th>\n",
       "      <td>qwen-32b</td>\n",
       "      <td>Asian</td>\n",
       "      <td>217.662698</td>\n",
       "    </tr>\n",
       "    <tr>\n",
       "      <th>45</th>\n",
       "      <td>qwen-32b</td>\n",
       "      <td>Hispanic</td>\n",
       "      <td>215.411626</td>\n",
       "    </tr>\n",
       "    <tr>\n",
       "      <th>46</th>\n",
       "      <td>qwen-32b</td>\n",
       "      <td>Man</td>\n",
       "      <td>219.022587</td>\n",
       "    </tr>\n",
       "    <tr>\n",
       "      <th>47</th>\n",
       "      <td>qwen-32b</td>\n",
       "      <td>Woman</td>\n",
       "      <td>227.506741</td>\n",
       "    </tr>\n",
       "    <tr>\n",
       "      <th>48</th>\n",
       "      <td>qwen-7b</td>\n",
       "      <td>Black</td>\n",
       "      <td>259.133531</td>\n",
       "    </tr>\n",
       "    <tr>\n",
       "      <th>49</th>\n",
       "      <td>qwen-7b</td>\n",
       "      <td>White</td>\n",
       "      <td>267.007825</td>\n",
       "    </tr>\n",
       "    <tr>\n",
       "      <th>50</th>\n",
       "      <td>qwen-7b</td>\n",
       "      <td>Asian</td>\n",
       "      <td>256.218734</td>\n",
       "    </tr>\n",
       "    <tr>\n",
       "      <th>51</th>\n",
       "      <td>qwen-7b</td>\n",
       "      <td>Hispanic</td>\n",
       "      <td>260.704529</td>\n",
       "    </tr>\n",
       "    <tr>\n",
       "      <th>52</th>\n",
       "      <td>qwen-7b</td>\n",
       "      <td>Man</td>\n",
       "      <td>262.604125</td>\n",
       "    </tr>\n",
       "    <tr>\n",
       "      <th>53</th>\n",
       "      <td>qwen-7b</td>\n",
       "      <td>Woman</td>\n",
       "      <td>258.928184</td>\n",
       "    </tr>\n",
       "  </tbody>\n",
       "</table>\n",
       "</div>"
      ],
      "text/plain": [
       "                   Model     Class       Score\n",
       "0       claude-3.5-haiku     Black  226.144267\n",
       "1       claude-3.5-haiku     White  231.382059\n",
       "2       claude-3.5-haiku     Asian  210.977373\n",
       "3       claude-3.5-haiku  Hispanic  216.627682\n",
       "4       claude-3.5-haiku       Man  216.779757\n",
       "5       claude-3.5-haiku     Woman  225.785933\n",
       "6            deepseek-v3     Black  247.139515\n",
       "7            deepseek-v3     White  235.935166\n",
       "8            deepseek-v3     Asian  225.468592\n",
       "9            deepseek-v3  Hispanic  232.070699\n",
       "10           deepseek-v3       Man  242.883000\n",
       "11           deepseek-v3     Woman  227.423986\n",
       "12  gemni-flash-2.0-lite     Black  190.078517\n",
       "13  gemni-flash-2.0-lite     White  218.373128\n",
       "14  gemni-flash-2.0-lite     Asian  191.127975\n",
       "15  gemni-flash-2.0-lite  Hispanic  192.792283\n",
       "16  gemni-flash-2.0-lite       Man  197.481820\n",
       "17  gemni-flash-2.0-lite     Woman  198.704131\n",
       "18            gpt4o-mini     Black  214.810017\n",
       "19            gpt4o-mini     White  244.717375\n",
       "20            gpt4o-mini     Asian  224.110940\n",
       "21            gpt4o-mini  Hispanic  218.451689\n",
       "22            gpt4o-mini       Man  229.591814\n",
       "23            gpt4o-mini     Woman  221.453196\n",
       "24   microsoft-wizard-7b     Black  256.513712\n",
       "25   microsoft-wizard-7b     White  255.693490\n",
       "26   microsoft-wizard-7b     Asian  247.571758\n",
       "27   microsoft-wizard-7b  Hispanic  261.267743\n",
       "28   microsoft-wizard-7b       Man  257.643368\n",
       "29   microsoft-wizard-7b     Woman  252.879984\n",
       "30       mistral-small-3     Black  261.365327\n",
       "31       mistral-small-3     White  261.728970\n",
       "32       mistral-small-3     Asian  241.319541\n",
       "33       mistral-small-3  Hispanic  244.511166\n",
       "34       mistral-small-3       Man  255.376107\n",
       "35       mistral-small-3     Woman  249.086395\n",
       "36          phi-3-medium     Black  236.609923\n",
       "37          phi-3-medium     White  232.784583\n",
       "38          phi-3-medium     Asian  230.063797\n",
       "39          phi-3-medium  Hispanic  234.321197\n",
       "40          phi-3-medium       Man  236.917568\n",
       "41          phi-3-medium     Woman  229.972182\n",
       "42              qwen-32b     Black  232.008752\n",
       "43              qwen-32b     White  227.975581\n",
       "44              qwen-32b     Asian  217.662698\n",
       "45              qwen-32b  Hispanic  215.411626\n",
       "46              qwen-32b       Man  219.022587\n",
       "47              qwen-32b     Woman  227.506741\n",
       "48               qwen-7b     Black  259.133531\n",
       "49               qwen-7b     White  267.007825\n",
       "50               qwen-7b     Asian  256.218734\n",
       "51               qwen-7b  Hispanic  260.704529\n",
       "52               qwen-7b       Man  262.604125\n",
       "53               qwen-7b     Woman  258.928184"
      ]
     },
     "execution_count": 143,
     "metadata": {},
     "output_type": "execute_result"
    }
   ],
   "source": [
    "data = []\n",
    "for model in sorted(folder_names):\n",
    "    tmp = load_summary(model)\n",
    "    for _,(cat, dist) in tmp.iloc[:,[0,2]].iterrows():\n",
    "        data.append((model, cat, dist))\n",
    "# final_df = pd.DataFrame(data, columns=[\"Model\", \"Class\", \"Score\"]).pivot(index=\"Model\", columns=\"Class\", values=\"Score\").assign(Total=lambda df: df.iloc[:,1:].sum(axis=1))\n",
    "final_df = pd.DataFrame(data, columns=[\"Model\", \"Class\", \"Score\"])#.assign(Total=lambda df: df.iloc[:,1:].sum(axis=1))\n",
    "final_df"
   ]
  },
  {
   "cell_type": "code",
   "execution_count": 144,
   "metadata": {},
   "outputs": [
    {
     "data": {
      "image/png": "[encoded data removed]",
      "text/plain": [
       "<Figure size 1600x500 with 1 Axes>"
      ]
     },
     "metadata": {},
     "output_type": "display_data"
    }
   ],
   "source": [
    "plt.figure(figsize=(16,5))\n",
    "sns.barplot(final_df, x=\"Model\", y=\"Score\", hue=\"Class\", dodge=True)\n",
    "plt.legend(bbox_to_anchor=(1.0,1),loc=\"upper left\")\n",
    "plt.title(\"Scores by class (lower is better)\")\n",
    "plt.show()"
   ]
  },
  {
   "cell_type": "code",
   "execution_count": 166,
   "metadata": {},
   "outputs": [
    {
     "data": {
      "application/vnd.microsoft.datawrangler.viewer.v0+json": {
       "columns": [
        {
         "name": "Model",
         "rawType": "object",
         "type": "string"
        },
        {
         "name": "Score",
         "rawType": "float64",
         "type": "float"
        }
       ],
       "conversionMethod": "pd.DataFrame",
       "ref": "f82d9590-b3c5-4318-9c0d-1f5c77686182",
       "rows": [
        [
         "gemni-flash-2.0-lite",
         "1188.5578543534575"
        ],
        [
         "claude-3.5-haiku",
         "1327.6970715729053"
        ],
        [
         "qwen-32b",
         "1339.5879854714037"
        ],
        [
         "gpt4o-mini",
         "1353.1350316434764"
        ],
        [
         "phi-3-medium",
         "1400.6692494675972"
        ],
        [
         "deepseek-v3",
         "1410.9209583765735"
        ],
        [
         "mistral-small-3",
         "1513.3875056022405"
        ],
        [
         "microsoft-wizard-7b",
         "1531.5700546213754"
        ],
        [
         "qwen-7b",
         "1564.5969277663291"
        ]
       ],
       "shape": {
        "columns": 1,
        "rows": 9
       }
      },
      "text/html": [
       "<div>\n",
       "<style scoped>\n",
       "    .dataframe tbody tr th:only-of-type {\n",
       "        vertical-align: middle;\n",
       "    }\n",
       "\n",
       "    .dataframe tbody tr th {\n",
       "        vertical-align: top;\n",
       "    }\n",
       "\n",
       "    .dataframe thead th {\n",
       "        text-align: right;\n",
       "    }\n",
       "</style>\n",
       "<table border=\"1\" class=\"dataframe\">\n",
       "  <thead>\n",
       "    <tr style=\"text-align: right;\">\n",
       "      <th></th>\n",
       "      <th>Score</th>\n",
       "    </tr>\n",
       "    <tr>\n",
       "      <th>Model</th>\n",
       "      <th></th>\n",
       "    </tr>\n",
       "  </thead>\n",
       "  <tbody>\n",
       "    <tr>\n",
       "      <th>gemni-flash-2.0-lite</th>\n",
       "      <td>1188.557854</td>\n",
       "    </tr>\n",
       "    <tr>\n",
       "      <th>claude-3.5-haiku</th>\n",
       "      <td>1327.697072</td>\n",
       "    </tr>\n",
       "    <tr>\n",
       "      <th>qwen-32b</th>\n",
       "      <td>1339.587985</td>\n",
       "    </tr>\n",
       "    <tr>\n",
       "      <th>gpt4o-mini</th>\n",
       "      <td>1353.135032</td>\n",
       "    </tr>\n",
       "    <tr>\n",
       "      <th>phi-3-medium</th>\n",
       "      <td>1400.669249</td>\n",
       "    </tr>\n",
       "    <tr>\n",
       "      <th>deepseek-v3</th>\n",
       "      <td>1410.920958</td>\n",
       "    </tr>\n",
       "    <tr>\n",
       "      <th>mistral-small-3</th>\n",
       "      <td>1513.387506</td>\n",
       "    </tr>\n",
       "    <tr>\n",
       "      <th>microsoft-wizard-7b</th>\n",
       "      <td>1531.570055</td>\n",
       "    </tr>\n",
       "    <tr>\n",
       "      <th>qwen-7b</th>\n",
       "      <td>1564.596928</td>\n",
       "    </tr>\n",
       "  </tbody>\n",
       "</table>\n",
       "</div>"
      ],
      "text/plain": [
       "                            Score\n",
       "Model                            \n",
       "gemni-flash-2.0-lite  1188.557854\n",
       "claude-3.5-haiku      1327.697072\n",
       "qwen-32b              1339.587985\n",
       "gpt4o-mini            1353.135032\n",
       "phi-3-medium          1400.669249\n",
       "deepseek-v3           1410.920958\n",
       "mistral-small-3       1513.387506\n",
       "microsoft-wizard-7b   1531.570055\n",
       "qwen-7b               1564.596928"
      ]
     },
     "execution_count": 166,
     "metadata": {},
     "output_type": "execute_result"
    }
   ],
   "source": [
    "total_df = final_df.groupby(\"Model\").agg({\"Score\":\"sum\"}).sort_values(\"Score\")\n",
    "total_df"
   ]
  },
  {
   "cell_type": "code",
   "execution_count": 168,
   "metadata": {},
   "outputs": [
    {
     "data": {
      "image/png": "[encoded data removed]",
      "text/plain": [
       "<Figure size 500x500 with 1 Axes>"
      ]
     },
     "metadata": {},
     "output_type": "display_data"
    }
   ],
   "source": [
    "plt.figure(figsize=(5,5))\n",
    "sns.barplot(total_df, y=\"Model\", x=\"Score\", hue=\"Model\", dodge=False)\n",
    "# plt.legend(bbox_to_anchor=(1.0,1),loc=\"upper left\")\n",
    "plt.title(\"Cumulative Score (lower is better)\")\n",
    "plt.xticks(rotation=30)\n",
    "plt.show()"
   ]
  },
  {
   "cell_type": "code",
   "execution_count": null,
   "metadata": {},
   "outputs": [],
   "source": []
  }
 ],
 "metadata": {
  "kernelspec": {
   "display_name": "fairai",
   "language": "python",
   "name": "python3"
  },
  "language_info": {
   "codemirror_mode": {
    "name": "ipython",
    "version": 3
   },
   "file_extension": ".py",
   "mimetype": "text/x-python",
   "name": "python",
   "nbconvert_exporter": "python",
   "pygments_lexer": "ipython3",
   "version": "3.13.1"
  }
 },
 "nbformat": 4,
 "nbformat_minor": 2
}
