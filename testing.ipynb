{
 "cells": [
  {
   "cell_type": "code",
   "execution_count": 8,
   "metadata": {},
   "outputs": [
    {
     "name": "stderr",
     "output_type": "stream",
     "text": [
      "Device set to use cuda:0\n",
      "/home/biggergig/micromamba/envs/fairai/lib/python3.13/site-packages/transformers/pipelines/text_classification.py:106: UserWarning: `return_all_scores` is now deprecated,  if want a similar functionality use `top_k=None` instead of `return_all_scores=True` or `top_k=1` instead of `return_all_scores=False`.\n",
      "  warnings.warn(\n"
     ]
    }
   ],
   "source": [
    "from transformers import pipeline\n",
    "# sentiment_pipeline = pipeline(model=\"finiteautomata/bertweet-base-sentiment-analysis\", return_all_scores=True)\n",
    "sentiment_pipeline = pipeline(\"text-classification\",model='bhadresh-savani/distilbert-base-uncased-emotion', return_all_scores=True)\n"
   ]
  },
  {
   "cell_type": "code",
   "execution_count": 9,
   "metadata": {},
   "outputs": [
    {
     "data": {
      "text/plain": [
       "[[{'label': 'sadness', 'score': 0.21912488341331482},\n",
       "  {'label': 'joy', 'score': 0.7152641415596008},\n",
       "  {'label': 'love', 'score': 0.0020415394101291895},\n",
       "  {'label': 'anger', 'score': 0.05050911381840706},\n",
       "  {'label': 'fear', 'score': 0.009933545254170895},\n",
       "  {'label': 'surprise', 'score': 0.003126824740320444}],\n",
       " [{'label': 'sadness', 'score': 0.0005159176653251052},\n",
       "  {'label': 'joy', 'score': 0.9983043670654297},\n",
       "  {'label': 'love', 'score': 0.0004944835673086345},\n",
       "  {'label': 'anger', 'score': 0.0003703442052938044},\n",
       "  {'label': 'fear', 'score': 0.0001525327388662845},\n",
       "  {'label': 'surprise', 'score': 0.00016229950415436178}]]"
      ]
     },
     "execution_count": 9,
     "metadata": {},
     "output_type": "execute_result"
    }
   ],
   "source": [
    "\n",
    "data = [\"She was super depressed\", \"He was very happy\"]\n",
    "sentiment_pipeline(data)"
   ]
  }
 ],
 "metadata": {
  "kernelspec": {
   "display_name": "fairai",
   "language": "python",
   "name": "python3"
  },
  "language_info": {
   "codemirror_mode": {
    "name": "ipython",
    "version": 3
   },
   "file_extension": ".py",
   "mimetype": "text/x-python",
   "name": "python",
   "nbconvert_exporter": "python",
   "pygments_lexer": "ipython3",
   "version": "3.13.1"
  }
 },
 "nbformat": 4,
 "nbformat_minor": 2
}
