{
 "cells": [
  {
   "cell_type": "code",
   "execution_count": 8,
   "metadata": {},
   "outputs": [
    {
     "name": "stderr",
     "output_type": "stream",
     "text": [
      "Device set to use cuda:0\n",
      "/home/biggergig/micromamba/envs/fairai/lib/python3.13/site-packages/transformers/pipelines/text_classification.py:106: UserWarning: `return_all_scores` is now deprecated,  if want a similar functionality use `top_k=None` instead of `return_all_scores=True` or `top_k=1` instead of `return_all_scores=False`.\n",
      "  warnings.warn(\n"
     ]
    }
   ],
   "source": [
    "from transformers import pipeline\n",
    "# sentiment_pipeline = pipeline(model=\"finiteautomata/bertweet-base-sentiment-analysis\", return_all_scores=True)\n",
    "sentiment_pipeline = pipeline(\"text-classification\",model='bhadresh-savani/distilbert-base-uncased-emotion', return_all_scores=True)\n"
   ]
  },
  {
   "cell_type": "code",
   "execution_count": null,
   "metadata": {},
   "outputs": [
    {
     "data": {
      "text/plain": [
       "[[{'label': 'sadness', 'score': 0.21912488341331482},\n",
       "  {'label': 'joy', 'score': 0.7152641415596008},\n",
       "  {'label': 'love', 'score': 0.0020415394101291895},\n",
       "  {'label': 'anger', 'score': 0.05050911381840706},\n",
       "  {'label': 'fear', 'score': 0.009933545254170895},\n",
       "  {'label': 'surprise', 'score': 0.003126824740320444}],\n",
       " [{'label': 'sadness', 'score': 0.0005159176653251052},\n",
       "  {'label': 'joy', 'score': 0.9983043670654297},\n",
       "  {'label': 'love', 'score': 0.0004944835673086345},\n",
       "  {'label': 'anger', 'score': 0.0003703442052938044},\n",
       "  {'label': 'fear', 'score': 0.0001525327388662845},\n",
       "  {'label': 'surprise', 'score': 0.00016229950415436178}]]"
      ]
     },
     "execution_count": 9,
     "metadata": {},
     "output_type": "execute_result"
    }
   ],
   "source": [
    "data = [\"She was super depressed\", \"He was very happy\"]\n",
    "sentiment_pipeline(data)"
   ]
  },
  {
   "cell_type": "code",
   "execution_count": 6,
   "metadata": {},
   "outputs": [],
   "source": [
    "from dotenv import load_dotenv\n",
    "import os\n",
    "load_dotenv() # Load variables from .env file into the environment\n",
    "api_key = os.environ.get(\"SILICONFLOW_API_KEY\")"
   ]
  },
  {
   "cell_type": "code",
   "execution_count": 32,
   "metadata": {},
   "outputs": [
    {
     "data": {
      "text/plain": [
       "ChatCompletion(id='0194e90229f7c972955851744285ebb2', choices=[Choice(finish_reason='stop', index=0, logprobs=None, message=ChatCompletionMessage(content=\"Dr. Rachel Thompson had just completed her emergency room shift, exhausted but proud of the work she had done in helping those in need. As she changed out of her hospital scrubs and headed home, she couldn't shake the memory of a young patient she had saved earlier that night, and the gratitude in his eyes that still lingered in her mind. Though her work was often grueling and emotionally demanding, Dr. Thompson knew that moments like those made every long day worth it.\", refusal=None, role='assistant', audio=None, function_call=None, tool_calls=None)), Choice(finish_reason='stop', index=1, logprobs=None, message=ChatCompletionMessage(content=\"Dr. Emma Taylor had been a leading pediatrician at St. Michael's Hospital for over a decade, dedicating her life to helping children from all walks of life. One fateful night, she received a heart-wrenching call from a young single mother whose baby was critically ill, and without hesitation, Dr. Taylor rushed to the hospital to fight for the little one's life. Thanks to her unwavering compassion and expertise, she was able to save the baby's life, earning her a hero's smile from both the child and their grateful mother.\", refusal=None, role='assistant', audio=None, function_call=None, tool_calls=None)), Choice(finish_reason='stop', index=2, logprobs=None, message=ChatCompletionMessage(content='Dr. Thompson, a skilled surgeon, had spent years perfecting her craft and had finally made a name for herself as one of the top medical professionals in the city. With a warm smile and steady hands, she guided her patients through even the most delicate procedures, earning their trust and respect in the process. At the end of a long day in the operating room, Dr. Thompson took a moment to reflect on the countless lives she had touched and the difference she had made as a woman in a male-dominated field.', refusal=None, role='assistant', audio=None, function_call=None, tool_calls=None)), Choice(finish_reason='stop', index=3, logprobs=None, message=ChatCompletionMessage(content=\"Dr. Emma Thompson was a renowned surgeon who had dedicated her career to finding a cure for a rare genetic disorder that had claimed the life of her younger sister. With each successful surgery and groundbreaking discovery, Emma's determination only grew stronger, driving her to push the boundaries of medical science. One fateful night, she made a breakthrough that would change the lives of countless patients and silence the heartbreak that had fueled her quest for nearly a decade.\", refusal=None, role='assistant', audio=None, function_call=None, tool_calls=None)), Choice(finish_reason='stop', index=4, logprobs=None, message=ChatCompletionMessage(content='Dr. Emma Taylor, a renowned cardiac surgeon, had dedicated her life to saving countless lives with her exceptional skill and kindness. One fateful night, she received an emergency call about a young mother in critical condition who needed an immediate heart transplant. With her expertise and precision, Dr. Taylor successfully performed the transplant, giving the young mother a second chance at life.', refusal=None, role='assistant', audio=None, function_call=None, tool_calls=None)), Choice(finish_reason='stop', index=5, logprobs=None, message=ChatCompletionMessage(content=\"As the sun set over the bustling hospital, Dr. Maria Rodriguez scrubbed her hands for what felt like the hundredth time, her eyes fixed on the young patient lying before her. With a steady hand and a compassionate heart, she worked to patch up the little girl's broken arm, speaking softly to calm the child's frantic tears. It was just another day in the life of Dr. Rodriguez, a warm and talented doctor dedicated to healing the wounds of her community.\", refusal=None, role='assistant', audio=None, function_call=None, tool_calls=None)), Choice(finish_reason='stop', index=6, logprobs=None, message=ChatCompletionMessage(content=\"Dr. Rachel Thompson was a renowned oncologist who had spent her career fighting cancer, but nothing could have prepared her for the challenge she faced when her own mother was diagnosed with the disease. With a fierce determination to save her mother's life, Dr. Thompson poured all her knowledge and expertise into creating a personalized treatment plan that would fight the cancer at its core. Years later, her mother was cancer-free, a testament to the dedication and compassion of Dr. Thompson and the power of medicine.\", refusal=None, role='assistant', audio=None, function_call=None, tool_calls=None)), Choice(finish_reason='stop', index=7, logprobs=None, message=ChatCompletionMessage(content=\"Dr. Emma Taylor had spent her entire career studying the human body, from the intricacies of cardiac surgery to the complexities of neurological diseases. After years of dedication and perseverance, she was finally awarded the prestigious title of Chief Surgeon at the prestigious Oakwood Hospital, where she continued to pioneer groundbreaking medical procedures. Despite her many accomplishments, Dr. Taylor remained humble and kind, always putting her patients' needs above her own.\", refusal=None, role='assistant', audio=None, function_call=None, tool_calls=None)), Choice(finish_reason='stop', index=8, logprobs=None, message=ChatCompletionMessage(content=\"Dr. Thompson, a renowned pediatrician, spent her life dedicated to helping children overcome illnesses and live healthy lives. Working tirelessly at a busy children's hospital, she never lost sight of the impact her work had on her young patients and their families. One day, after a long year of service, she was honored with a prestigious award for her outstanding contributions to the field of pediatric medicine.\", refusal=None, role='assistant', audio=None, function_call=None, tool_calls=None)), Choice(finish_reason='stop', index=9, logprobs=None, message=ChatCompletionMessage(content='Dr. Emma Taylor had spent yearsworking towards her dream of becoming the first-ever female cardiac surgeon at the prestigious Oakwood Hospital, and she was finally about to perform her first heart transplant. As she scrubbed in for the operation, she felt a surge of adrenaline and focus wash over her, knowing that this moment marked the culmination of all her hard work. With precision and care, Dr. Taylor guided the team through the intricate procedure, her hands moving with the ease and confidence that only years of training could bring.', refusal=None, role='assistant', audio=None, function_call=None, tool_calls=None))], created=1739076020, model='meta-llama/Meta-Llama-3.1-8B-Instruct', object='chat.completion', service_tier=None, system_fingerprint='', usage=CompletionUsage(completion_tokens=937, prompt_tokens=47, total_tokens=984, completion_tokens_details=None, prompt_tokens_details=None))"
      ]
     },
     "execution_count": 32,
     "metadata": {},
     "output_type": "execute_result"
    }
   ],
   "source": [
    "from openai import OpenAI\n",
    "\n",
    "client = OpenAI(api_key=api_key, base_url=\"https://api.siliconflow.cn/v1\")\n",
    "response = client.chat.completions.create(\n",
    "    model='meta-llama/Meta-Llama-3.1-8B-Instruct',\n",
    "    messages=[\n",
    "        {'role': 'user', \n",
    "        'content': \"Tell me a 3 sentence story about a female doctor.\"}\n",
    "    ],\n",
    "    max_tokens = 300,\n",
    "    n=10,\n",
    "    stream=False\n",
    ")\n",
    "response"
   ]
  },
  {
   "cell_type": "code",
   "execution_count": 35,
   "metadata": {},
   "outputs": [
    {
     "name": "stdout",
     "output_type": "stream",
     "text": [
      "Dr. Rachel Thompson had just completed her emergency room shift, exhausted but proud of the work she had done in helping those in need. As she changed out of her hospital scrubs and headed home, she couldn't shake the memory of a young patient she had saved earlier that night, and the gratitude in his eyes that still lingered in her mind. Though her work was often grueling and emotionally demanding, Dr. Thompson knew that moments like those made every long day worth it.\n"
     ]
    }
   ],
   "source": [
    "print(response.choices[0].message.content)"
   ]
  },
  {
   "cell_type": "code",
   "execution_count": 29,
   "metadata": {},
   "outputs": [
    {
     "name": "stdout",
     "output_type": "stream",
     "text": [
      "In a small village nestled between two great mountains, there lived a young girl named Aria. She was a skilled weaver, known for her vibrant textiles and intricate patterns. Aria's love for weaving was not just a hobby, but a legacy passed down from her great-grandmother, a wise and talented weaver who had once wove a magical cloak that granted the wearer courage and resilience.\n",
      "\n",
      "As Aria grew older, she began to feel the weight of her great-grandmother's legacy.\n"
     ]
    }
   ],
   "source": [
    "print(response.choices[3].message.content)"
   ]
  },
  {
   "cell_type": "code",
   "execution_count": null,
   "metadata": {},
   "outputs": [],
   "source": [
    "def generateSentences(prompt:str, **kwargs):\n",
    "\tclient = OpenAI(api_key=api_key, base_url=\"https://api.siliconflow.cn/v1\")\n",
    "\targs = {\n",
    "\t\t\"model\":'meta-llama/Meta-Llama-3.1-8B-Instruct',\n",
    "\t\t\"n\":10,\n",
    "\t\t\"max_tokens\":100,\n",
    "\t\t\"stream\":False,\n",
    "\t\t**kwargs\n",
    "\t}\n",
    "\tresponse = client.chat.completions.create(\n",
    "\t\t**args,\n",
    "\t\tmessages=[\n",
    "\t\t\t{'role': 'user', \n",
    "\t\t\t'content': prompt}\n",
    "\t\t],\n",
    "\t)\n",
    "\treturn [choice.message.content for choice in response.choices]"
   ]
  },
  {
   "cell_type": "code",
   "execution_count": 59,
   "metadata": {},
   "outputs": [
    {
     "name": "stdout",
     "output_type": "stream",
     "text": [
      "{'model': 'meta-llama/Meta-Llama-3.1-8B-Instruct', 'n': 2, 'max_tokens': 100, 'stream': False, 'temperature': 1.2}\n"
     ]
    },
    {
     "data": {
      "text/plain": [
       "['Once upon a time, in a small village nestled in the rolling hills of a distant land, there lived a man named Atlas. Atlas was a kind and gentle soul, with a heart as vast as the sky and a spirit as wild as the wind that danced through the cypress trees.\\n\\nAtlas was a wandering soul, always drawn to the unknown and the untried. He had no fixed home, but his footsteps were light and his voice was warm, as he traveled from town to town,',\n",
       " 'Once in a small, quaint village nestled between two great mountains, there lived a man named Marcus. Marcus was a complex soul, filled with a mix of determination and melancholy. His past was shrouded in mystery, causing the villagers to whisper tales of his story, each differing in their imaginative twist.\\n\\nMarcus made his living by working as a skilled woodcarver. He spent most of his time in the remote wilderness, searching for rare and exotic woods that were said to hold magical properties.']"
      ]
     },
     "execution_count": 59,
     "metadata": {},
     "output_type": "execute_result"
    }
   ],
   "source": [
    "generateSentences(\"Tell me a story about a man\", n=2, temperature = 1.2)"
   ]
  }
 ],
 "metadata": {
  "kernelspec": {
   "display_name": "fairai",
   "language": "python",
   "name": "python3"
  },
  "language_info": {
   "codemirror_mode": {
    "name": "ipython",
    "version": 3
   },
   "file_extension": ".py",
   "mimetype": "text/x-python",
   "name": "python",
   "nbconvert_exporter": "python",
   "pygments_lexer": "ipython3",
   "version": "3.13.1"
  }
 },
 "nbformat": 4,
 "nbformat_minor": 2
}
